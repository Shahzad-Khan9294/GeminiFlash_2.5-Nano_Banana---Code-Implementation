{
  "nbformat": 4,
  "nbformat_minor": 0,
  "metadata": {
    "colab": {
      "provenance": []
    },
    "kernelspec": {
      "name": "python3",
      "display_name": "Python 3"
    },
    "language_info": {
      "name": "python"
    }
  },
  "cells": [
    {
      "cell_type": "code",
      "source": [
        "!pip install -U -q \"google\"\n",
        "!pip install -U -q \"google.genai\""
      ],
      "metadata": {
        "id": "sn7hEOIhy1DC"
      },
      "execution_count": null,
      "outputs": []
    },
    {
      "cell_type": "code",
      "source": [
        "from google.colab import userdata\n",
        "Open_Router_ApiKey = userdata.get('nano_open_router_api')"
      ],
      "metadata": {
        "id": "X87eFc-ei6Mb"
      },
      "execution_count": null,
      "outputs": []
    },
    {
      "cell_type": "code",
      "source": [
        "from openai import OpenAI\n",
        "\n",
        "client = OpenAI(\n",
        "  base_url=\"https://openrouter.ai/api/v1\",\n",
        "  api_key= Open_Router_ApiKey\n",
        ")"
      ],
      "metadata": {
        "id": "Z93OvOUgjN8p"
      },
      "execution_count": null,
      "outputs": []
    },
    {
      "cell_type": "markdown",
      "source": [
        "**API Calling and Processing Pipeline**"
      ],
      "metadata": {
        "id": "FtK8QuwxXYA8"
      }
    },
    {
      "cell_type": "code",
      "source": [
        "import requests\n",
        "import json\n",
        "import base64\n",
        "from pathlib import Path\n",
        "\n",
        "def encode_image_to_base64(image_path):\n",
        "    with open(image_path, \"rb\") as image_file:\n",
        "        return base64.b64encode(image_file.read()).decode('utf-8')\n",
        "\n",
        "url = \"https://openrouter.ai/api/v1/chat/completions\"\n",
        "headers = {\n",
        "    \"Authorization\": f\"Bearer {Open_Router_ApiKey}\",\n",
        "    \"Content-Type\": \"application/json\"\n",
        "}\n",
        "\n",
        "# Read and encode the image\n",
        "image_path = \"/content/base_image.jpeg\"\n",
        "base64_image = encode_image_to_base64(image_path)\n",
        "base_image_url = f\"data:image/jpeg;base64,{base64_image}\"\n",
        "\n",
        "# Read and encode the image\n",
        "image_path = \"/content/without_bg_bed.png\"\n",
        "base64_image = encode_image_to_base64(image_path)\n",
        "overlay_image_url_1 = f\"data:image/jpeg;base64,{base64_image}\"\n",
        "\n",
        "# Read and encode the image\n",
        "image_path = \"/content/without_bg_sofa.jpg\"\n",
        "base64_image = encode_image_to_base64(image_path)\n",
        "overlay_image_url_2 = f\"data:image/jpeg;base64,{base64_image}\""
      ],
      "metadata": {
        "id": "WmPvkRQwPVa7"
      },
      "execution_count": null,
      "outputs": []
    },
    {
      "cell_type": "code",
      "source": [
        "messages = [\n",
        "    {\n",
        "        \"role\": \"user\",\n",
        "        \"content\": [\n",
        "            {\n",
        "                \"type\": \"text\",\n",
        "                \"text\": \"\"\n",
        "            },\n",
        "            {\n",
        "                \"type\": \"image_url\",\n",
        "                \"image_url\": {\"url\": base_image_url}\n",
        "            }\n",
        "        ]\n",
        "    },\n",
        "    {\n",
        "        \"role\": \"user\",\n",
        "        \"content\": [\n",
        "            {\n",
        "                \"type\": \"text\",\n",
        "                \"text\": \"I'd like to see the room furnished with a bed, a sofa, plants, rugs and table lamps but use these images of bed I’m attaching here\"\n",
        "            },\n",
        "            {\n",
        "                \"type\": \"image_url\",\n",
        "                \"image_url\": {\"url\": overlay_image_url_1}\n",
        "            },\n",
        "            {\n",
        "                \"type\": \"image_url\",\n",
        "                \"image_url\": {\"url\": overlay_image_url_2}\n",
        "            }\n",
        "        ]\n",
        "    }\n",
        "]\n",
        "\n",
        "payload = {\n",
        "    \"model\": \"google/gemini-2.5-flash-image-preview:free\",\n",
        "    \"messages\": messages\n",
        "}\n",
        "\n",
        "response = requests.post(url, headers=headers, json=payload)\n",
        "print(response.json())"
      ],
      "metadata": {
        "id": "ncvAe-GKPK6Y"
      },
      "execution_count": null,
      "outputs": []
    },
    {
      "cell_type": "code",
      "source": [
        "import base64\n",
        "\n",
        "# Convert Response object to Python dict\n",
        "resp_json = response.json()\n",
        "\n",
        "# Extract the full data URL\n",
        "data_url = resp_json[\"choices\"][0][\"message\"][\"images\"][0][\"image_url\"][\"url\"]\n",
        "\n",
        "# Split metadata from the base64 string\n",
        "header, base64_data = data_url.split(\",\", 1)\n",
        "\n",
        "# Decode base64 into bytes\n",
        "image_bytes = base64.b64decode(base64_data)\n",
        "\n",
        "# Save as PNG\n",
        "with open(\"output_5.png\", \"wb\") as f:\n",
        "    f.write(image_bytes)\n",
        "\n",
        "print(\"Image saved as output.png\")"
      ],
      "metadata": {
        "id": "DaMY5IWEQ0aB"
      },
      "execution_count": null,
      "outputs": []
    },
    {
      "cell_type": "markdown",
      "source": [
        "**Test Code with Change Imput Prompt**"
      ],
      "metadata": {
        "id": "0XzwJJ9yloBP"
      }
    },
    {
      "cell_type": "code",
      "source": [
        "messages = [\n",
        "    {\n",
        "        \"role\": \"user\",\n",
        "        \"content\": [\n",
        "            {\n",
        "                \"type\": \"text\",\n",
        "                \"text\": \"\"\n",
        "            },\n",
        "            {\n",
        "                \"type\": \"image_url\",\n",
        "                \"image_url\": {\"url\": base_image_url}\n",
        "            }\n",
        "        ]\n",
        "    },\n",
        "    {\n",
        "        \"role\": \"user\",\n",
        "        \"content\": [\n",
        "            {\n",
        "                \"type\": \"text\",\n",
        "                \"text\": \"I'd like to see the room furnished with a bed, a sofa, plants, rugs and table lamps Put bed to the left side of room but use these images of bed I’m attaching here\"\n",
        "            },\n",
        "            {\n",
        "                \"type\": \"image_url\",\n",
        "                \"image_url\": {\"url\": overlay_image_url_1}\n",
        "            },\n",
        "            {\n",
        "                \"type\": \"image_url\",\n",
        "                \"image_url\": {\"url\": overlay_image_url_2}\n",
        "            }\n",
        "        ]\n",
        "    }\n",
        "]\n",
        "\n",
        "payload = {\n",
        "    \"model\": \"google/gemini-2.5-flash-image-preview:free\",\n",
        "    \"messages\": messages\n",
        "}\n",
        "\n",
        "response = requests.post(url, headers=headers, json=payload)\n",
        "print(response.json())"
      ],
      "metadata": {
        "id": "ZQImLFq22PTk"
      },
      "execution_count": null,
      "outputs": []
    },
    {
      "cell_type": "markdown",
      "source": [
        "**Code Ends**"
      ],
      "metadata": {
        "id": "O3GDHTnqXb0Z"
      }
    },
    {
      "cell_type": "code",
      "source": [
        "\"\"\"\n",
        "# 1. Create a session (one-time)\n",
        "session_payload = {\n",
        "    \"model\": \"google/gemini-2.5-flash-image-preview:free\"\n",
        "}\n",
        "session_res = requests.post(session_url, headers=headers, json=session_payload).json()\n",
        "session_id = session_res[\"name\"]  # unique session name\n",
        "\n",
        "# 2. First call: send base image\n",
        "payload1 = {\n",
        "    \"messages\": [\n",
        "        {\n",
        "            \"role\": \"user\",\n",
        "            \"content\": [\n",
        "                {\"type\": \"text\", \"text\": \"Here is the base image.\"},\n",
        "                {\"type\": \"image_url\", \"image_url\": {\"url\": base_image_url}}\n",
        "            ]\n",
        "        }\n",
        "    ]\n",
        "}\n",
        "res1 = requests.post(f\"{session_url}/{session_id}:sendMessage\",\n",
        "                     headers=headers, json=payload1).json()\n",
        "\n",
        "# 3. Second call: send new prompt + objects (Gemini remembers base image automatically)\n",
        "payload2 = {\n",
        "    \"messages\": [\n",
        "        {\n",
        "            \"role\": \"user\",\n",
        "            \"content\": [\n",
        "                {\"type\": \"text\", \"text\": \"Now add these objects to the base image.\"},\n",
        "                {\"type\": \"image_url\", \"image_url\": {\"url\": overlay_image_url_1}},\n",
        "                {\"type\": \"image_url\", \"image_url\": {\"url\": overlay_image_url_2}}\n",
        "            ]\n",
        "        }\n",
        "    ]\n",
        "}\n",
        "res2 = requests.post(f\"{session_url}/{session_id}:sendMessage\",\n",
        "                     headers=headers, json=payload2).json()\n",
        "\"\"\""
      ],
      "metadata": {
        "id": "VxhysFDTOxez"
      },
      "execution_count": null,
      "outputs": []
    },
    {
      "cell_type": "markdown",
      "source": [
        "**Multiple Tool Calls**"
      ],
      "metadata": {
        "id": "ehT_-dotrNTE"
      }
    },
    {
      "cell_type": "code",
      "source": [
        "{\n",
        "  \"model\": \"anthropic/claude-3.5-sonnet\",\n",
        "  \"messages\": [\n",
        "    {\n",
        "      \"role\": \"user\",\n",
        "      \"content\": \"Research the environmental impact of electric vehicles and provide a comprehensive analysis.\"\n",
        "    }\n",
        "  ],\n",
        "  \"tools\": [\n",
        "    {\n",
        "      \"type\": \"function\",\n",
        "      \"function\": {\n",
        "        \"name\": \"search_academic_papers\",\n",
        "        \"description\": \"Search for academic papers on a given topic\",\n",
        "        \"parameters\": {\n",
        "          \"type\": \"object\",\n",
        "          \"properties\": {\n",
        "            \"query\": {\"type\": \"string\"},\n",
        "            \"field\": {\"type\": \"string\"}\n",
        "          },\n",
        "          \"required\": [\"query\"]\n",
        "        }\n",
        "      }\n",
        "    },\n",
        "    {\n",
        "      \"type\": \"function\",\n",
        "      \"function\": {\n",
        "        \"name\": \"get_latest_statistics\",\n",
        "        \"description\": \"Get latest statistics on a topic\",\n",
        "        \"parameters\": {\n",
        "          \"type\": \"object\",\n",
        "          \"properties\": {\n",
        "            \"topic\": {\"type\": \"string\"},\n",
        "            \"year\": {\"type\": \"integer\"}\n",
        "          },\n",
        "          \"required\": [\"topic\"]\n",
        "        }\n",
        "      }\n",
        "    }\n",
        "  ]\n",
        "}\n"
      ],
      "metadata": {
        "id": "KHlMbJK6qR20"
      },
      "execution_count": null,
      "outputs": []
    },
    {
      "cell_type": "markdown",
      "source": [
        "**A Simple Agentic Loop**"
      ],
      "metadata": {
        "id": "7bw59L2krDKS"
      }
    },
    {
      "cell_type": "code",
      "source": [
        "\n",
        "def call_llm(msgs):\n",
        "    resp = openai_client.chat.completions.create(\n",
        "        model=google/gemini-2.0-flash-001,\n",
        "        tools=tools,\n",
        "        messages=msgs\n",
        "    )\n",
        "    msgs.append(resp.choices[0].message.dict())\n",
        "    return resp\n",
        "\n",
        "def get_tool_response(response):\n",
        "    tool_call = response.choices[0].message.tool_calls[0]\n",
        "    tool_name = tool_call.function.name\n",
        "    tool_args = json.loads(tool_call.function.arguments)\n",
        "\n",
        "    # Look up the correct tool locally, and call it with the provided arguments\n",
        "    # Other tools can be added without changing the agentic loop\n",
        "    tool_result = TOOL_MAPPING[tool_name](**tool_args)\n",
        "\n",
        "    return {\n",
        "        \"role\": \"tool\",\n",
        "        \"tool_call_id\": tool_call.id,\n",
        "        \"content\": tool_result,\n",
        "    }\n",
        "\n",
        "max_iterations = 10\n",
        "iteration_count = 0\n",
        "\n",
        "while iteration_count < max_iterations:\n",
        "    iteration_count += 1\n",
        "    resp = call_llm(_messages)\n",
        "\n",
        "    if resp.choices[0].message.tool_calls is not None:\n",
        "        messages.append(get_tool_response(resp))\n",
        "    else:\n",
        "        break\n",
        "\n",
        "if iteration_count >= max_iterations:\n",
        "    print(\"Warning: Maximum iterations reached\")\n",
        "\n",
        "print(messages[-1]['content'])"
      ],
      "metadata": {
        "id": "tc9G60DqrGVx"
      },
      "execution_count": null,
      "outputs": []
    },
    {
      "cell_type": "code",
      "execution_count": null,
      "metadata": {
        "id": "Nrv21oS5xjaF"
      },
      "outputs": [],
      "source": [
        "\"\"\"\n",
        "import os\n",
        "from google.colab import drive\n",
        "from google.colab import userdata\n",
        "os.environ[\"GEMINI_API_KEY\"] = userdata.get(\"nano_api\")\n",
        "\n",
        "drive.mount(\"/content/drive\")\n",
        "\n",
        "# Please ensure that uploaded files are available in the AI Studio folder or change the working folder.\n",
        "os.chdir(\"/content/drive/MyDrive/Google AI Studio\")\n",
        "\"\"\""
      ]
    },
    {
      "cell_type": "markdown",
      "source": [
        "**Other Supported Functions of NanoBanana**"
      ],
      "metadata": {
        "id": "6kT2wBKfl5H-"
      }
    },
    {
      "cell_type": "code",
      "source": [
        "from google.colab import userdata\n",
        "\n",
        "GOOGLE_API_KEY = userdata.get('nano_api')"
      ],
      "metadata": {
        "id": "vRG6pqE24mLB"
      },
      "execution_count": null,
      "outputs": []
    },
    {
      "cell_type": "code",
      "source": [
        "from google import genai\n",
        "from google.genai import types\n",
        "\n",
        "client = genai.Client(api_key=GOOGLE_API_KEY)"
      ],
      "metadata": {
        "id": "ArjBCTxYAlM6"
      },
      "execution_count": null,
      "outputs": []
    },
    {
      "cell_type": "code",
      "source": [
        "MODEL_ID = \"gemini-2.5-flash-image-preview\""
      ],
      "metadata": {
        "id": "fpM4-Yc0Aofl"
      },
      "execution_count": null,
      "outputs": []
    },
    {
      "cell_type": "code",
      "source": [
        "from IPython.display import display, Markdown, Image\n",
        "import pathlib\n",
        "\n",
        "# Loop over all parts and display them either as text or images\n",
        "def display_response(response):\n",
        "  for part in response.parts:\n",
        "    if part.text:\n",
        "      display(Markdown(part.text))\n",
        "    elif image:= part.as_image():\n",
        "      display(image)\n",
        "      # image.show() if not in a notebook\n",
        "\n",
        "# Save the image\n",
        "# If there are multiple ones, only the last one will be saved\n",
        "def save_image(response, path):\n",
        "  for part in response.parts:\n",
        "    if image:= part.as_image():\n",
        "      image.save(path)"
      ],
      "metadata": {
        "id": "YMvemuJqAqux"
      },
      "execution_count": null,
      "outputs": []
    },
    {
      "cell_type": "markdown",
      "source": [
        "**Cont. Chat Editing**"
      ],
      "metadata": {
        "id": "u2hRq0QcC4PD"
      }
    },
    {
      "cell_type": "code",
      "source": [
        "chat = client.chats.create(\n",
        "    model=MODEL_ID,\n",
        ")"
      ],
      "metadata": {
        "id": "Y8yIu4YKAto-"
      },
      "execution_count": null,
      "outputs": []
    },
    {
      "cell_type": "code",
      "source": [
        "message = \"create a image of a plastic toy fox figurine in a kid's bedroom, it can have accessories but no weapon\" # @param {type:\"string\"}\n",
        "\n",
        "response = chat.send_message(message)\n",
        "display_response(response)\n",
        "save_image(response, \"figurine.png\")"
      ],
      "metadata": {
        "id": "kyKkc2C4BHyJ"
      },
      "execution_count": null,
      "outputs": []
    },
    {
      "cell_type": "code",
      "source": [
        "message = \"Add a blue planet on the figuring's helmet or hat (add one if needed)\" # @param {type:\"string\"}\n",
        "response = chat.send_message(message)\n",
        "display_response(response)"
      ],
      "metadata": {
        "id": "olzOdrJcBMwv"
      },
      "execution_count": null,
      "outputs": []
    },
    {
      "cell_type": "code",
      "source": [],
      "metadata": {
        "id": "xJyEn-2ACuD7"
      },
      "execution_count": null,
      "outputs": []
    }
  ]
}
